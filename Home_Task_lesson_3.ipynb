{
 "cells": [
  {
   "cell_type": "markdown",
   "metadata": {},
   "source": [
    "Hometask Question 1 lesson 3 "
   ]
  },
  {
   "cell_type": "code",
   "execution_count": 156,
   "metadata": {},
   "outputs": [],
   "source": [
    "import pandas as pd\n",
    "import numpy as np\n",
    "import re as re"
   ]
  },
  {
   "cell_type": "markdown",
   "metadata": {},
   "source": [
    "Перевіряємо версію встановленої бібліотеки"
   ]
  },
  {
   "cell_type": "code",
   "execution_count": 157,
   "metadata": {},
   "outputs": [
    {
     "data": {
      "text/plain": [
       "'2.2.2'"
      ]
     },
     "execution_count": 157,
     "metadata": {},
     "output_type": "execute_result"
    }
   ],
   "source": [
    "pd.__version__"
   ]
  },
  {
   "cell_type": "code",
   "execution_count": 158,
   "metadata": {},
   "outputs": [
    {
     "name": "stdout",
     "output_type": "stream",
     "text": [
      "                             2     3    4           5\n",
      "0                  Afghanistan   321   10   78.669280\n",
      "1                      Albania   102   35  100.000000\n",
      "2                      Algeria  1959   51    0.551010\n",
      "3               American Samoa   ...  ...    0.641026\n",
      "4                      Andorra     9  121   88.695650\n",
      "..                         ...   ...  ...         ...\n",
      "222                   Viet Nam  2554   28   45.321520\n",
      "223  Wallis and Futuna Islands     0   26    0.000000\n",
      "224                      Yemen   344   13    0.000000\n",
      "225                     Zambia   400   26   99.714670\n",
      "226                   Zimbabwe   480   32   52.536120\n",
      "\n",
      "[227 rows x 4 columns]\n"
     ]
    }
   ],
   "source": [
    "energy = pd.read_excel(\n",
    "    \"Energy Indicators.xls\",\n",
    "    sheet_name=\"Energy\",\n",
    "    skiprows= 18, #Пропускаємо перші 18 рядків\n",
    "    skipfooter= 38, #Пропускаємо останні 38 рядків\n",
    "    usecols= \"C:F\", #Вибираємо лише потрібні стовпці\n",
    "    header= None\n",
    ")\n",
    "print(energy)"
   ]
  },
  {
   "cell_type": "markdown",
   "metadata": {},
   "source": [
    "Перейменовуємо стовпці"
   ]
  },
  {
   "cell_type": "code",
   "execution_count": 159,
   "metadata": {},
   "outputs": [],
   "source": [
    "energy.columns=['Country', 'Energy Supply', 'Energy Supply per Capita', '% Renewable']"
   ]
  },
  {
   "cell_type": "markdown",
   "metadata": {},
   "source": [
    "Заміняємо ... на Nan"
   ]
  },
  {
   "cell_type": "code",
   "execution_count": 160,
   "metadata": {},
   "outputs": [
    {
     "name": "stderr",
     "output_type": "stream",
     "text": [
      "C:\\Users\\userk\\AppData\\Local\\Temp\\ipykernel_11464\\801257677.py:1: FutureWarning: Downcasting behavior in `replace` is deprecated and will be removed in a future version. To retain the old behavior, explicitly call `result.infer_objects(copy=False)`. To opt-in to the future behavior, set `pd.set_option('future.no_silent_downcasting', True)`\n",
      "  energy.replace('...', np.nan, inplace=True)\n"
     ]
    }
   ],
   "source": [
    "energy.replace('...', np.nan, inplace=True)"
   ]
  },
  {
   "cell_type": "markdown",
   "metadata": {},
   "source": [
    "Конвертуємо петаджоулі в гігаджоулі"
   ]
  },
  {
   "cell_type": "code",
   "execution_count": 161,
   "metadata": {},
   "outputs": [],
   "source": [
    "energy['Energy Supply'] *= 1000000"
   ]
  },
  {
   "cell_type": "markdown",
   "metadata": {},
   "source": [
    "Перейменовуємо країни"
   ]
  },
  {
   "cell_type": "code",
   "execution_count": 162,
   "metadata": {},
   "outputs": [],
   "source": [
    "renamed_country = {\n",
    "    \"Republic of Korea\": \"South Korea\",\n",
    "    \"United States of America\": \"United States\",\n",
    "    \"United Kingdom of Great Britain and Northern Ireland\": \"United Kingdom\",\n",
    "    \"China, Hong Kong Special Administrative Region\": \"Hong Kong\"\n",
    "}"
   ]
  },
  {
   "cell_type": "markdown",
   "metadata": {},
   "source": [
    "Очищаємо назви країн від цифр й дужок"
   ]
  },
  {
   "cell_type": "code",
   "execution_count": 163,
   "metadata": {},
   "outputs": [
    {
     "name": "stdout",
     "output_type": "stream",
     "text": [
      "                       Country  Energy Supply  Energy Supply per Capita  \\\n",
      "0                  Afghanistan   3.210000e+08                      10.0   \n",
      "1                      Albania   1.020000e+08                      35.0   \n",
      "2                      Algeria   1.959000e+09                      51.0   \n",
      "3               American Samoa            NaN                       NaN   \n",
      "4                      Andorra   9.000000e+06                     121.0   \n",
      "..                         ...            ...                       ...   \n",
      "222                   Viet Nam   2.554000e+09                      28.0   \n",
      "223  Wallis and Futuna Islands   0.000000e+00                      26.0   \n",
      "224                      Yemen   3.440000e+08                      13.0   \n",
      "225                     Zambia   4.000000e+08                      26.0   \n",
      "226                   Zimbabwe   4.800000e+08                      32.0   \n",
      "\n",
      "     % Renewable  \n",
      "0      78.669280  \n",
      "1     100.000000  \n",
      "2       0.551010  \n",
      "3       0.641026  \n",
      "4      88.695650  \n",
      "..           ...  \n",
      "222    45.321520  \n",
      "223     0.000000  \n",
      "224     0.000000  \n",
      "225    99.714670  \n",
      "226    52.536120  \n",
      "\n",
      "[227 rows x 4 columns]\n"
     ]
    }
   ],
   "source": [
    "def clean_country(name):\n",
    "    name = re.sub(r'\\d+', '', name)  # Видалити числа\n",
    "    name = re.sub(r'\\s*\\(.*\\)', '', name)  # Видалити текст у дужках\n",
    "    return name.strip()\n",
    "\n",
    "energy['Country'] = energy['Country'].apply(clean_country)\n",
    "energy['Country'] = energy['Country'].replace(renamed_country)\n",
    "\n",
    "print(energy)"
   ]
  },
  {
   "cell_type": "markdown",
   "metadata": {},
   "source": [
    "Завантажуємо GDP"
   ]
  },
  {
   "cell_type": "code",
   "execution_count": 164,
   "metadata": {},
   "outputs": [],
   "source": [
    "GDP = pd.read_csv(\"API_NY.GDP.MKTP.CD_DS2_en_csv_v2_76261.csv\", skiprows=4)"
   ]
  },
  {
   "cell_type": "markdown",
   "metadata": {},
   "source": [
    "Перейменовуємо країни"
   ]
  },
  {
   "cell_type": "code",
   "execution_count": 165,
   "metadata": {},
   "outputs": [],
   "source": [
    "rename_gdp = {\n",
    "    \"Korea, Rep.\": \"South Korea\",\n",
    "    \"Iran, Islamic Rep.\": \"Iran\",\n",
    "    \"Hong Kong SAR, China\": \"Hong Kong\"\n",
    "}\n",
    "\n",
    "GDP['Country Name'] = GDP['Country Name'].replace(rename_gdp)"
   ]
  },
  {
   "cell_type": "markdown",
   "metadata": {},
   "source": [
    "Вибираємо тільки потрібні колонки (2006-2015)"
   ]
  },
  {
   "cell_type": "code",
   "execution_count": 166,
   "metadata": {},
   "outputs": [],
   "source": [
    "columns_to_keep = ['Country Name'] + [str(year) for year in range(2006, 2016)]\n",
    "GDP = GDP[columns_to_keep]"
   ]
  },
  {
   "cell_type": "markdown",
   "metadata": {},
   "source": [
    "Завантажуємо scimagojr"
   ]
  },
  {
   "cell_type": "code",
   "execution_count": 167,
   "metadata": {},
   "outputs": [
    {
     "name": "stdout",
     "output_type": "stream",
     "text": [
      "                    Rank  Documents  Citable documents  Citations  \\\n",
      "Country                                                             \n",
      "China                  1     402188             400158    5077232   \n",
      "United States          2     208042             203356    3540288   \n",
      "India                  3      81853              79757     968523   \n",
      "Japan                  4      58342              57735     717946   \n",
      "United Kingdom         5      56288              54713    1095371   \n",
      "Germany                6      50906              49773     777362   \n",
      "Russian Federation     7      46186              45868     217996   \n",
      "Canada                 8      41209              40390     915491   \n",
      "Italy                  9      38700              36909     639473   \n",
      "South Korea           10      38362              38046     618762   \n",
      "Iran                  11      32080              31725     634135   \n",
      "France                12      30810              30139     547122   \n",
      "Spain                 13      29840              29156     614087   \n",
      "Australia             14      27993              27254     608021   \n",
      "Brazil                15      27316              26888     307607   \n",
      "\n",
      "                    Self-citations  Citations per document  H index  \\\n",
      "Country                                                               \n",
      "China                      3511673                   12.62      343   \n",
      "United States              1004877                   17.02      458   \n",
      "India                       369256                   11.83      237   \n",
      "Japan                       154848                   12.31      228   \n",
      "United Kingdom              179764                   19.46      293   \n",
      "Germany                     160302                   15.27      252   \n",
      "Russian Federation           96688                    4.72      112   \n",
      "Canada                      142691                   22.22      284   \n",
      "Italy                       147302                   16.52      209   \n",
      "South Korea                 105419                   16.13      198   \n",
      "Iran                        177894                   19.77      198   \n",
      "France                       89958                   17.76      221   \n",
      "Spain                       104845                   20.58      216   \n",
      "Australia                    84747                   21.72      234   \n",
      "Brazil                       71778                   11.26      154   \n",
      "\n",
      "                    Energy Supply  Energy Supply per Capita  % Renewable  \\\n",
      "Country                                                                    \n",
      "China                1.271910e+11                      93.0    19.754910   \n",
      "United States        9.083800e+10                     286.0    11.570980   \n",
      "India                3.319500e+10                      26.0    14.969080   \n",
      "Japan                1.898400e+10                     149.0    10.232820   \n",
      "United Kingdom       7.920000e+09                     124.0    10.600470   \n",
      "Germany              1.326100e+10                     165.0    17.901530   \n",
      "Russian Federation   3.070900e+10                     214.0    17.288680   \n",
      "Canada               1.043100e+10                     296.0    61.945430   \n",
      "Italy                6.530000e+09                     109.0    33.667230   \n",
      "South Korea          1.100700e+10                     221.0     2.279353   \n",
      "Iran                 9.172000e+09                     119.0     5.707721   \n",
      "France               1.059700e+10                     166.0    17.020280   \n",
      "Spain                4.923000e+09                     106.0    37.968590   \n",
      "Australia            5.386000e+09                     231.0    11.810810   \n",
      "Brazil               1.214900e+10                      59.0    69.648030   \n",
      "\n",
      "                            2006          2007          2008          2009  \\\n",
      "Country                                                                      \n",
      "China               2.752119e+12  3.550328e+12  4.594337e+12  5.101691e+12   \n",
      "United States       1.381558e+13  1.447423e+13  1.476986e+13  1.447807e+13   \n",
      "India               9.402599e+11  1.216736e+12  1.198895e+12  1.341888e+12   \n",
      "Japan               4.601663e+12  4.579751e+12  5.106679e+12  5.289493e+12   \n",
      "United Kingdom      2.708442e+12  3.090510e+12  2.929412e+12  2.412840e+12   \n",
      "Germany             3.046309e+12  3.484057e+12  3.808786e+12  3.479801e+12   \n",
      "Russian Federation  9.899321e+11  1.299703e+12  1.660848e+12  1.222646e+12   \n",
      "Canada              1.319265e+12  1.468820e+12  1.552990e+12  1.374625e+12   \n",
      "Italy               1.958564e+12  2.222524e+12  2.417508e+12  2.209484e+12   \n",
      "South Korea         1.053217e+12  1.172614e+12  1.047339e+12  9.439419e+11   \n",
      "Iran                2.656022e+11  3.497366e+11  4.060709e+11  4.140591e+11   \n",
      "France              2.317862e+12  2.655817e+12  2.926803e+12  2.700076e+12   \n",
      "Spain               1.261847e+12  1.476746e+12  1.636115e+12  1.496588e+12   \n",
      "Australia           7.484176e+11  8.550075e+11  1.056112e+12  9.287621e+11   \n",
      "Brazil              1.107627e+12  1.397114e+12  1.695855e+12  1.666996e+12   \n",
      "\n",
      "                            2010          2011          2012          2013  \\\n",
      "Country                                                                      \n",
      "China               6.087192e+12  7.551546e+12  8.532185e+12  9.570471e+12   \n",
      "United States       1.504897e+13  1.559973e+13  1.625397e+13  1.688068e+13   \n",
      "India               1.675616e+12  1.823052e+12  1.827638e+12  1.856722e+12   \n",
      "Japan               5.759072e+12  6.233147e+12  6.272363e+12  5.212328e+12   \n",
      "United Kingdom      2.485483e+12  2.663806e+12  2.707090e+12  2.784854e+12   \n",
      "Germany             3.468154e+12  3.824829e+12  3.597897e+12  3.808086e+12   \n",
      "Russian Federation  1.524917e+12  2.045923e+12  2.208294e+12  2.292470e+12   \n",
      "Canada              1.617343e+12  1.793327e+12  1.828366e+12  1.846597e+12   \n",
      "Italy               2.144936e+12  2.306974e+12  2.097929e+12  2.153226e+12   \n",
      "South Korea         1.143672e+12  1.253290e+12  1.278047e+12  1.370633e+12   \n",
      "Iran                4.870696e+11  6.290823e+11  6.440193e+11  5.003998e+11   \n",
      "France              2.646230e+12  2.870409e+12  2.683007e+12  2.816078e+12   \n",
      "Spain               1.427989e+12  1.487569e+12  1.330995e+12  1.362187e+12   \n",
      "Australia           1.148838e+12  1.398611e+12  1.547532e+12  1.577123e+12   \n",
      "Brazil              2.208838e+12  2.616156e+12  2.465228e+12  2.472820e+12   \n",
      "\n",
      "                            2014          2015  \n",
      "Country                                         \n",
      "China               1.047562e+13  1.106157e+13  \n",
      "United States       1.760814e+13  1.829502e+13  \n",
      "India               2.039126e+12  2.103588e+12  \n",
      "Japan               4.896994e+12  4.444931e+12  \n",
      "United Kingdom      3.064708e+12  2.927911e+12  \n",
      "Germany             3.965801e+12  3.423568e+12  \n",
      "Russian Federation  2.059242e+12  1.363482e+12  \n",
      "Canada              1.805750e+12  1.556509e+12  \n",
      "Italy               2.173256e+12  1.845428e+12  \n",
      "South Korea         1.484489e+12  1.466039e+12  \n",
      "Iran                4.622848e+11  4.091917e+11  \n",
      "France              2.861236e+12  2.442483e+12  \n",
      "Spain               1.380245e+12  1.206165e+12  \n",
      "Australia           1.468265e+12  1.351296e+12  \n",
      "Brazil              2.456044e+12  1.802212e+12  \n"
     ]
    }
   ],
   "source": [
    "def answer_one():\n",
    "    ScimEn= pd.read_excel('scimagojr country rank.xlsx')\n",
    "\n",
    "    #Вибираємо топ 15 країн\n",
    "    ScimEn = ScimEn[ScimEn['Rank'] <= 15]\n",
    "\n",
    "    # Об'єднання даних (перетин країн)\n",
    "    merged_df = ScimEn.merge(energy, how='inner', left_on='Country', right_on='Country')\n",
    "    merged_df = merged_df.merge(GDP, how='inner', left_on='Country', right_on='Country Name')\n",
    "\n",
    "    # Видалення дублікату колонки Country Name\n",
    "    merged_df.drop(columns=['Country Name'], inplace=True)\n",
    "\n",
    "    # Встановлення індексу\n",
    "    merged_df.set_index('Country', inplace=True)\n",
    "\n",
    "    # Вибір потрібних колонок у правильному порядку\n",
    "    final_columns = [\n",
    "        'Rank', 'Documents', 'Citable documents', 'Citations', 'Self-citations', \n",
    "        'Citations per document', 'H index', 'Energy Supply', 'Energy Supply per Capita', \n",
    "        '% Renewable'\n",
    "    ] + [str(year) for year in range(2006, 2016)]\n",
    "    \n",
    "    final_df = merged_df[final_columns]\n",
    "\n",
    "    return final_df\n",
    "\n",
    "result = answer_one()\n",
    "\n",
    "print(result)\n",
    "    "
   ]
  },
  {
   "cell_type": "markdown",
   "metadata": {},
   "source": [
    "Question 2"
   ]
  },
  {
   "cell_type": "code",
   "execution_count": 168,
   "metadata": {},
   "outputs": [
    {
     "name": "stdout",
     "output_type": "stream",
     "text": [
      "Country\n",
      "United States         1.572243e+13\n",
      "China                 6.927707e+12\n",
      "Japan                 5.239642e+12\n",
      "Germany               3.590729e+12\n",
      "United Kingdom        2.777505e+12\n",
      "France                2.692000e+12\n",
      "Italy                 2.152983e+12\n",
      "Brazil                1.988889e+12\n",
      "Russian Federation    1.666746e+12\n",
      "Canada                1.616359e+12\n",
      "India                 1.602352e+12\n",
      "Spain                 1.406644e+12\n",
      "South Korea           1.221328e+12\n",
      "Australia             1.207997e+12\n",
      "Iran                  4.567516e+11\n",
      "dtype: float64\n"
     ]
    }
   ],
   "source": [
    "def answer_two():\n",
    "    Top15 = answer_one()\n",
    "\n",
    "    # Вибираємо тільки колонки з ВВП (2006-2015)\n",
    "    gdp_columns = [str(year) for year in range(2006, 2016)]\n",
    "\n",
    "    # Обчислюємо середній ВВП для кожної країни (mean по рядках)\n",
    "    avgGDP = Top15[gdp_columns].mean(axis=1)\n",
    "\n",
    "    # Сортуємо за спаданням\n",
    "    avgGDP = avgGDP.sort_values(ascending=False)\n",
    "\n",
    "    return avgGDP\n",
    "print(answer_two())"
   ]
  },
  {
   "cell_type": "markdown",
   "metadata": {},
   "source": [
    "Question 3"
   ]
  },
  {
   "cell_type": "code",
   "execution_count": 169,
   "metadata": {},
   "outputs": [
    {
     "name": "stdout",
     "output_type": "stream",
     "text": [
      "124621907951.68018\n"
     ]
    }
   ],
   "source": [
    "def answer_three():\n",
    "    Top15 = answer_one()\n",
    "\n",
    "    # Обчислюємо середній ВВП та отримуємо країну на 6-му місці\n",
    "    avgGDP = Top15[[str(year) for year in range(2006, 2016)]].mean(axis=1)\n",
    "    sixth_country = avgGDP.sort_values(ascending=False).index[5]\n",
    "\n",
    "    # Обчислюємо різницю ВВП між 2015 і 2006 роками\n",
    "    gdp_change = Top15.loc[sixth_country, '2015'] - Top15.loc[sixth_country, '2006']\n",
    "\n",
    "    return gdp_change\n",
    "print(answer_three())"
   ]
  },
  {
   "cell_type": "markdown",
   "metadata": {},
   "source": [
    "Question 4"
   ]
  },
  {
   "cell_type": "code",
   "execution_count": 170,
   "metadata": {},
   "outputs": [
    {
     "name": "stdout",
     "output_type": "stream",
     "text": [
      "('China', 0.6916510807463594)\n"
     ]
    }
   ],
   "source": [
    "def answer_four():\n",
    "    Top15 = answer_one()\n",
    "\n",
    "    # Обчислюємо відношення Self-Citations / Citations\n",
    "    Top15[\"Citation Ratio\"] = Top15[\"Self-citations\"] / Top15[\"Citations\"]\n",
    "\n",
    "    # Знаходимо країну з максимальним значенням\n",
    "    max_country = Top15[\"Citation Ratio\"].idxmax()\n",
    "    max_value = Top15[\"Citation Ratio\"].max()\n",
    "\n",
    "    return (max_country, max_value)\n",
    "print(answer_four())"
   ]
  },
  {
   "cell_type": "markdown",
   "metadata": {},
   "source": [
    "Question 5"
   ]
  },
  {
   "cell_type": "code",
   "execution_count": 171,
   "metadata": {},
   "outputs": [
    {
     "name": "stdout",
     "output_type": "stream",
     "text": [
      "United States\n"
     ]
    }
   ],
   "source": [
    "def answer_five():\n",
    "    Top15 = answer_one()\n",
    "\n",
    "    # Обчислюємо населення\n",
    "    Top15[\"Population Estimate\"] = Top15[\"Energy Supply\"] / Top15[\"Energy Supply per Capita\"]\n",
    "\n",
    "    # Отримуємо країну з 3-м за чисельністю населення\n",
    "    third_most_populous = Top15[\"Population Estimate\"].sort_values(ascending=False).index[2]\n",
    "\n",
    "    return third_most_populous\n",
    "print(answer_five())"
   ]
  },
  {
   "cell_type": "markdown",
   "metadata": {},
   "source": [
    "Question 6"
   ]
  },
  {
   "cell_type": "code",
   "execution_count": 172,
   "metadata": {},
   "outputs": [
    {
     "name": "stdout",
     "output_type": "stream",
     "text": [
      "0.7019601723071185\n"
     ]
    }
   ],
   "source": [
    "def answer_six():\n",
    "    Top15 = answer_one()\n",
    "\n",
    "    # Оцінка населення\n",
    "    Top15[\"Population Estimate\"] = Top15[\"Energy Supply\"] / Top15[\"Energy Supply per Capita\"]\n",
    "\n",
    "    # Citable documents per capita\n",
    "    Top15[\"Citable Docs per Capita\"] = Top15[\"Citable documents\"] / Top15[\"Population Estimate\"]\n",
    "\n",
    "    # Обчислюємо кореляцію\n",
    "    correlation = Top15[\"Citable Docs per Capita\"].corr(Top15[\"Energy Supply per Capita\"])\n",
    "\n",
    "    return correlation\n",
    "print(answer_six())"
   ]
  },
  {
   "cell_type": "markdown",
   "metadata": {},
   "source": [
    "Question 7"
   ]
  },
  {
   "cell_type": "code",
   "execution_count": 173,
   "metadata": {},
   "outputs": [
    {
     "name": "stdout",
     "output_type": "stream",
     "text": [
      "               size           sum          mean           std\n",
      "Continent                                                    \n",
      "Asia              5  2.898666e+09  5.797333e+08  6.790979e+08\n",
      "Australia         1  2.331602e+07  2.331602e+07           NaN\n",
      "Europe            6  4.579297e+08  7.632161e+07  3.464767e+07\n",
      "North America     2  3.528552e+08  1.764276e+08  1.996696e+08\n",
      "South America     1  2.059153e+08  2.059153e+08           NaN\n"
     ]
    }
   ],
   "source": [
    "def answer_seven():\n",
    "    Top15 = answer_one()\n",
    "\n",
    "    # Словник континентів\n",
    "    ContinentDict = {\n",
    "        'China': 'Asia', \n",
    "        'United States': 'North America', \n",
    "        'Japan': 'Asia', \n",
    "        'United Kingdom': 'Europe', \n",
    "        'Russian Federation': 'Europe', \n",
    "        'Canada': 'North America', \n",
    "        'Germany': 'Europe', \n",
    "        'India': 'Asia',\n",
    "        'France': 'Europe', \n",
    "        'South Korea': 'Asia', \n",
    "        'Italy': 'Europe', \n",
    "        'Spain': 'Europe', \n",
    "        'Iran': 'Asia',\n",
    "        'Australia': 'Australia', \n",
    "        'Brazil': 'South America'\n",
    "    }\n",
    "\n",
    "    # Створюємо стовпець 'Continent' в Top15 за допомогою словника\n",
    "    Top15['Continent'] = Top15.index.map(ContinentDict)\n",
    "\n",
    "    # Оцінка населення\n",
    "    Top15[\"Population Estimate\"] = Top15[\"Energy Supply\"] / Top15[\"Energy Supply per Capita\"]\n",
    "\n",
    "    # Групуємо по континентах і обчислюємо потрібні статистики\n",
    "    continent_stats = Top15.groupby('Continent')['Population Estimate'].agg(['size', 'sum', 'mean', 'std'])\n",
    "\n",
    "    return continent_stats\n",
    "print(answer_seven())"
   ]
  }
 ],
 "metadata": {
  "kernelspec": {
   "display_name": "base",
   "language": "python",
   "name": "python3"
  },
  "language_info": {
   "codemirror_mode": {
    "name": "ipython",
    "version": 3
   },
   "file_extension": ".py",
   "mimetype": "text/x-python",
   "name": "python",
   "nbconvert_exporter": "python",
   "pygments_lexer": "ipython3",
   "version": "3.12.4"
  }
 },
 "nbformat": 4,
 "nbformat_minor": 2
}
